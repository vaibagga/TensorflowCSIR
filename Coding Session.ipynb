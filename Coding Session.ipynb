{
 "cells": [
  {
   "cell_type": "markdown",
   "metadata": {
    "colab_type": "text",
    "id": "K0MV4Mx9dRQV"
   },
   "source": [
    "# Workshop on Tensorflow\n",
    "<img src = \"https://upload.wikimedia.org/wikipedia/commons/2/2d/Tensorflow_logo.svg\" align = \"center\">\n",
    "\n",
    "\n",
    "## Importing dependencies\n",
    "\n",
    "1. [Tensorflow](https://www.tensorflow.org/): Tensor operations\n",
    "2. [Numpy](https://www.numpy.org/): Linear Algebra operations\n",
    "3. [Matplotlib](https://matplotlib.org): Plotting\n",
    "4. [OS](https://docs.python.org/3/library/os.html): Operating system functionality\n",
    "5. [Pandas](https://pandas.pydata.org/): Data analysis\n",
    "6. [tqdm](https://tqdm.github.io/): Generates progress bar"
   ]
  },
  {
   "cell_type": "code",
   "execution_count": 1,
   "metadata": {
    "colab": {
     "base_uri": "https://localhost:8080/",
     "height": 52
    },
    "colab_type": "code",
    "id": "tSaVXoWmlQxh",
    "outputId": "cca775c6-16aa-4a76-d666-1908495065e5"
   },
   "outputs": [
    {
     "name": "stdout",
     "output_type": "stream",
     "text": [
      "Tensorflow version = 1.10.0\n",
      "Using GPU\n"
     ]
    }
   ],
   "source": [
    "import tensorflow as tf\n",
    "import numpy as np\n",
    "from matplotlib import pyplot as plt\n",
    "import os\n",
    "import pandas as pd\n",
    "from tqdm import tqdm_notebook\n",
    "\n",
    "os.environ['CUDA_VISIBLE_DEVICES'] = \"0\"\n",
    "os.environ['TF_CPP_MIN_LOG_LEVEL'] = \"2\"\n",
    "\n",
    "%matplotlib inline\n",
    "\n",
    "## Verifying import\n",
    "print(\"Tensorflow version =\",tf.__version__)\n",
    "\n",
    "## Verifying whether tensorflow is using Graphic Processing Unit\n",
    "print(\"Using GPU\" if tf.test.is_built_with_cuda() else \"Not using GPU\")"
   ]
  },
  {
   "cell_type": "markdown",
   "metadata": {},
   "source": [
    "## Hello, Tensorflow!"
   ]
  },
  {
   "cell_type": "code",
   "execution_count": 2,
   "metadata": {},
   "outputs": [
    {
     "name": "stdout",
     "output_type": "stream",
     "text": [
      "Hello, Tensorflow\n"
     ]
    }
   ],
   "source": [
    "message = tf.constant(\"Hello, Tensorflow\")\n",
    "sess = tf.Session()\n",
    "print(sess.run(message).decode())\n",
    "sess.close()"
   ]
  },
  {
   "cell_type": "markdown",
   "metadata": {},
   "source": [
    "## Creating Constant Scalars\n",
    "**Reminder** <br/>\n",
    "Scalars are tensors with rank 0<br/>\n",
    "Vectors are tensors with rank 1<br/>\n",
    "Scalars are tensors with rank 2<br/>\n",
    "Constants are assigned value at declaration and value cannot be reassigned\n",
    "\n"
   ]
  },
  {
   "cell_type": "code",
   "execution_count": 3,
   "metadata": {
    "colab": {
     "base_uri": "https://localhost:8080/",
     "height": 34
    },
    "colab_type": "code",
    "id": "BPRokb3Ylvn5",
    "outputId": "1afa55b2-9888-4871-d5e5-28a0c4f114f9"
   },
   "outputs": [],
   "source": [
    "## constant variables 0 dimensional\n",
    "x = tf.constant(2.0)\n",
    "y = tf.constant(3.0)\n",
    "\n",
    "## basic addition operation\n",
    "z = x + y"
   ]
  },
  {
   "cell_type": "markdown",
   "metadata": {},
   "source": [
    "## Creating and running a session\n",
    "Computations are not run unless a tensorflow session is created <br/>\n",
    "The graph is just static without a session<br/>\n",
    "**Note: Do not forget to close session using tf.Session.close() to release hardware resources. <br/>\n",
    "Failing to do so may lead to memory overflow**\n"
   ]
  },
  {
   "cell_type": "code",
   "execution_count": 4,
   "metadata": {
    "colab": {
     "base_uri": "https://localhost:8080/",
     "height": 34
    },
    "colab_type": "code",
    "id": "BPRokb3Ylvn5",
    "outputId": "1afa55b2-9888-4871-d5e5-28a0c4f114f9"
   },
   "outputs": [
    {
     "name": "stdout",
     "output_type": "stream",
     "text": [
      "5.0\n"
     ]
    }
   ],
   "source": [
    "## creating tensorflow session\n",
    "sess = tf.Session()\n",
    "\n",
    "## running the tensorflow session\n",
    "print(sess.run(z))\n",
    "\n",
    "## closing session\n",
    "sess.close()"
   ]
  },
  {
   "cell_type": "markdown",
   "metadata": {},
   "source": [
    "## Creating 1-D and 2-D tensor\n",
    "It is also possible to convert numpy arrays and matrices to tensorflow tensors.<br/>\n",
    "Which is demonstrated in the following example <br/>\n",
    "In the following example a numpy function [np.eye](https://docs.scipy.org/doc/numpy/reference/generated/numpy.eye.html) is used, which returns an identity matrix"
   ]
  },
  {
   "cell_type": "code",
   "execution_count": 5,
   "metadata": {
    "colab": {
     "base_uri": "https://localhost:8080/",
     "height": 34
    },
    "colab_type": "code",
    "id": "uBo-BFiYmv2o",
    "outputId": "9904b64f-3eb3-42dc-91dd-a2d63d11e97d"
   },
   "outputs": [
    {
     "name": "stdout",
     "output_type": "stream",
     "text": [
      "z_arr = [1 2 3 4]\n",
      "z_mat = [[1 0]\n",
      " [0 1]]\n",
      "z_arr_np = [1 2 3 4]\n",
      "z_mat_np = [[1. 0.]\n",
      " [0. 1.]]\n"
     ]
    }
   ],
   "source": [
    "## tensorflow vector from list\n",
    "z_arr = tf.constant([1,2,3,4])\n",
    "\n",
    "## tensorflow matrix from nested list\n",
    "z_mat = tf.constant([[1,0],[0,1]])\n",
    "\n",
    "## tensosrflow vector from numpy vector\n",
    "z_arr_np = tf.constant(np.array([1,2,3,4]))\n",
    "\n",
    "## tensorflow vector from numpy matrix\n",
    "z_mat_np = tf.constant(np.eye(2))\n",
    "\n",
    "sess = tf.Session()\n",
    "\n",
    "print(\"z_arr =\", sess.run(z_arr))\n",
    "print(\"z_mat =\", sess.run(z_mat))\n",
    "print(\"z_arr_np =\", sess.run(z_arr_np))\n",
    "print(\"z_mat_np =\", sess.run(z_mat_np))\n",
    "\n",
    "sess.close()"
   ]
  },
  {
   "cell_type": "markdown",
   "metadata": {},
   "source": [
    "## Creating placeholders\n",
    "\n",
    "Placeholders do not need to be specified value at declaration, but are later fed value through feed dictionary <br/>\n",
    "At declaration, we need to specify shape and data type <br/>\n",
    "Similar to numpy, tensorflow tensors also have shape attribute"
   ]
  },
  {
   "cell_type": "code",
   "execution_count": 6,
   "metadata": {},
   "outputs": [
    {
     "name": "stdout",
     "output_type": "stream",
     "text": [
      "(1, 2, 3, 4)\n"
     ]
    }
   ],
   "source": [
    "placeholder1 = tf.placeholder(dtype = tf.float32, shape = [1,2,3,4])\n",
    "print(placeholder1.shape)"
   ]
  },
  {
   "cell_type": "code",
   "execution_count": 7,
   "metadata": {
    "colab": {},
    "colab_type": "code",
    "id": "PBE5FCV4m6CB"
   },
   "outputs": [
    {
     "name": "stdout",
     "output_type": "stream",
     "text": [
      "(50, 1)\n",
      "(50, 1)\n"
     ]
    }
   ],
   "source": [
    "inp = 50 * np.random.rand(50, 1)\n",
    "out = 1.24 * inp + 21.23 + 6 * np.random.rand(50, 1)\n",
    "print(inp.shape)\n",
    "print(out.shape)"
   ]
  },
  {
   "cell_type": "code",
   "execution_count": 8,
   "metadata": {
    "colab": {
     "base_uri": "https://localhost:8080/",
     "height": 89
    },
    "colab_type": "code",
    "id": "rFDcT0GknJbU",
    "outputId": "e26ce01e-3fc6-42cb-be14-12fac9bb6e0e"
   },
   "outputs": [
    {
     "data": {
      "image/png": "[encoded data removed]",
      "text/plain": [
       "<Figure size 432x288 with 1 Axes>"
      ]
     },
     "metadata": {
      "needs_background": "light"
     },
     "output_type": "display_data"
    }
   ],
   "source": [
    "plt.scatter(inp, out)\n",
    "plt.xlabel(\"X\")\n",
    "plt.ylabel(\"y\")\n",
    "plt.title(\"input vs output\")\n",
    "plt.grid(True)"
   ]
  },
  {
   "cell_type": "code",
   "execution_count": 9,
   "metadata": {
    "colab": {
     "base_uri": "https://localhost:8080/",
     "height": 1702
    },
    "colab_type": "code",
    "id": "tfJktUdJ1TSg",
    "outputId": "466ec3bc-af0f-4399-dbf2-eac316f53376"
   },
   "outputs": [],
   "source": [
    "X = tf.placeholder(dtype = tf.float32, shape = [None, 1])\n",
    "y = tf.placeholder(dtype = tf.float32, shape = [None, 1])\n",
    "W = tf.get_variable(dtype = tf.float32, name = \"weight\", shape = [1], initializer = tf.initializers.random_normal)\n",
    "b = tf.get_variable(dtype = tf.float32, name = \"bias\", shape = [1], initializer = tf.initializers.random_normal)"
   ]
  },
  {
   "cell_type": "code",
   "execution_count": 10,
   "metadata": {
    "colab": {},
    "colab_type": "code",
    "id": "PoRsXnuO1lVX"
   },
   "outputs": [],
   "source": [
    "def getPrediction(W, X, b):\n",
    "    return X*W + b"
   ]
  },
  {
   "cell_type": "code",
   "execution_count": 11,
   "metadata": {},
   "outputs": [],
   "source": [
    "def loss(W, X, y, b):\n",
    "    pred = getPrediction(W, X, b)\n",
    "    return tf.losses.mean_squared_error(pred, y)"
   ]
  },
  {
   "cell_type": "code",
   "execution_count": 18,
   "metadata": {},
   "outputs": [],
   "source": [
    "cost = loss(W, X, y, b)\n",
    "optimizer = tf.train.GradientDescentOptimizer(0.001).minimize(cost)\n",
    "init = tf.global_variables_initializer()\n",
    "weights = {}\n",
    "costCache = []"
   ]
  },
  {
   "cell_type": "code",
   "execution_count": 19,
   "metadata": {},
   "outputs": [
    {
     "name": "stdout",
     "output_type": "stream",
     "text": [
      "Iteration:0, Loss = 9738.9326171875\n",
      "Iteration:1000, Loss = 60.93757247924805\n",
      "Iteration:2000, Loss = 24.11211585998535\n",
      "Iteration:3000, Loss = 10.528900146484375\n",
      "Iteration:4000, Loss = 5.518848419189453\n",
      "Iteration:5000, Loss = 3.6708545684814453\n",
      "Iteration:6000, Loss = 2.9892280101776123\n",
      "Iteration:7000, Loss = 2.737807035446167\n",
      "Iteration:8000, Loss = 2.645071029663086\n",
      "Iteration:9000, Loss = 2.6108639240264893\n",
      "Iteration:10000, Loss = 2.598245143890381\n",
      "Iteration:11000, Loss = 2.5935912132263184\n",
      "Iteration:12000, Loss = 2.591874122619629\n",
      "Iteration:13000, Loss = 2.591242790222168\n",
      "Iteration:14000, Loss = 2.591008186340332\n",
      "Iteration:15000, Loss = 2.5909230709075928\n",
      "Iteration:16000, Loss = 2.5908892154693604\n",
      "Iteration:17000, Loss = 2.590878963470459\n",
      "Iteration:18000, Loss = 2.5908730030059814\n",
      "Iteration:19000, Loss = 2.590872287750244\n",
      "CPU times: user 22.9 s, sys: 1.67 s, total: 24.5 s\n",
      "Wall time: 13.1 s\n"
     ]
    },
    {
     "data": {
      "image/png": "[encoded data removed]",
      "text/plain": [
       "<Figure size 432x288 with 1 Axes>"
      ]
     },
     "metadata": {
      "needs_background": "light"
     },
     "output_type": "display_data"
    }
   ],
   "source": [
    "%%time\n",
    "with tf.Session() as sess:\n",
    "    sess.run(init)\n",
    "    for num_iter in range(2*10**4):\n",
    "        _, currentCost = sess.run([optimizer, cost], feed_dict = {X: inp, y: out})\n",
    "        if num_iter % 10**3 == 0:\n",
    "            costCache.append(currentCost)\n",
    "            print(\"Iteration:{}, Loss = {}\".format(num_iter, currentCost))\n",
    "    weights[\"weight\"], weights[\"bias\"] = W.eval(), b.eval()\n",
    "    plt.plot(costCache)"
   ]
  },
  {
   "cell_type": "code",
   "execution_count": 20,
   "metadata": {},
   "outputs": [
    {
     "name": "stdout",
     "output_type": "stream",
     "text": [
      "{'bias': array([24.305248], dtype=float32), 'weight': array([1.2248484], dtype=float32)}\n"
     ]
    }
   ],
   "source": [
    "print(weights)"
   ]
  },
  {
   "cell_type": "markdown",
   "metadata": {},
   "source": [
    "## Single layer perceptron with multiple features\n",
    "Dataset is loaded from tensorflow keras module <br/>\n",
    "Train Dataset consists of 60000 28 x 28 images <br/>\n",
    "Test Dataset consists of 10000 28 x 28 images <br/>"
   ]
  },
  {
   "cell_type": "code",
   "execution_count": 21,
   "metadata": {},
   "outputs": [],
   "source": [
    "mnist = tf.keras.datasets.mnist\n",
    "(x_train, y_train),(x_test, y_test) = mnist.load_data()\n",
    "x_train, x_test = x_train / 255.0, x_test / 255.0"
   ]
  },
  {
   "cell_type": "code",
   "execution_count": 32,
   "metadata": {},
   "outputs": [
    {
     "name": "stdout",
     "output_type": "stream",
     "text": [
      "Number of images = 60000 \n",
      "Width of each image = 28 \n",
      "Height of each image = 28\n"
     ]
    }
   ],
   "source": [
    "num_images, img_width, img_height = x_train.shape\n",
    "num_classes = y_train.shape[0]\n",
    "print(\"Number of images = {} \\nWidth of each image = {} \\nHeight of each image = {}\".format(num_images, img_width, img_height))"
   ]
  },
  {
   "cell_type": "code",
   "execution_count": null,
   "metadata": {},
   "outputs": [],
   "source": [
    "X = tf.placeholder(dtype = tf.float32, shape = [None, 28, 28])\n",
    "y = tf.placeholder(dtype = tf.float32, shape = [None, 10])\n",
    "\n",
    "\n",
    "tensorboard = tf.keras.callbacks.TensorBoard(log_dir=\"logs/{}\".format(\"board\"))\n",
    "model = tf.keras.models.Sequential([\n",
    "  tf.keras.layers.Flatten(input_shape=(28, 28)),\n",
    "  tf.keras.layers.Dense(512, activation=tf.nn.relu),\n",
    "  tf.keras.layers.Dropout(0.2),\n",
    "  tf.keras.layers.Dense(10, activation=tf.nn.softmax)\n",
    "])\n",
    "model.compile(optimizer='adam',\n",
    "              loss='sparse_categorical_crossentropy',\n",
    "              metrics=['accuracy'])\n",
    "\n",
    "model.fit(x_train, y_train, epochs=5, callbacks = [tensorboard])\n",
    "model.evaluate(x_test, y_test)"
   ]
  },
  {
   "cell_type": "code",
   "execution_count": null,
   "metadata": {},
   "outputs": [],
   "source": [
    "model.summary()"
   ]
  },
  {
   "cell_type": "code",
   "execution_count": 26,
   "metadata": {},
   "outputs": [
    {
     "data": {
      "text/plain": [
       "(60000, 28, 28)"
      ]
     },
     "execution_count": 26,
     "metadata": {},
     "output_type": "execute_result"
    }
   ],
   "source": [
    "x_train.shape"
   ]
  },
  {
   "cell_type": "code",
   "execution_count": null,
   "metadata": {},
   "outputs": [],
   "source": []
  }
 ],
 "metadata": {
  "accelerator": "GPU",
  "colab": {
   "collapsed_sections": [],
   "include_colab_link": true,
   "name": "TensorflowCSIR.ipynb",
   "provenance": [],
   "version": "0.3.2"
  },
  "kernelspec": {
   "display_name": "Python 3",
   "language": "python",
   "name": "python3"
  },
  "language_info": {
   "codemirror_mode": {
    "name": "ipython",
    "version": 3
   },
   "file_extension": ".py",
   "mimetype": "text/x-python",
   "name": "python",
   "nbconvert_exporter": "python",
   "pygments_lexer": "ipython3",
   "version": "3.5.6"
  }
 },
 "nbformat": 4,
 "nbformat_minor": 1
}
