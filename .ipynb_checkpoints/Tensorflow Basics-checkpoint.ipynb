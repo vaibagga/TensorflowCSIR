{
 "cells": [
  {
   "cell_type": "markdown",
   "metadata": {
    "colab_type": "text",
    "id": "K0MV4Mx9dRQV"
   },
   "source": [
    "# Tensorflow  Basics\n",
    "<img src = \"https://upload.wikimedia.org/wikipedia/commons/2/2d/Tensorflow_logo.svg\" align = \"center\">\n",
    "\n",
    "\n",
    "## Topics covered:\n",
    "In this session we will learn about:\n",
    "1. Tensorflow\n",
    "2. Variables in Tensorflow\n",
    "3. Tensorflow graph\n",
    "4. Tensorflow Session\n",
    "5. Tensorflow Optimizer\n",
    "6. Tensorflow Keras\n",
    "7. Tensorboard\n",
    "8. Tensorflow estimators\n",
    "\n",
    "## Importing dependencies\n",
    "\n",
    "1. [Tensorflow](https://www.tensorflow.org/): Tensor operations\n",
    "2. [Numpy](https://www.numpy.org/): Linear Algebra operations\n",
    "3. [Matplotlib](https://matplotlib.org): Plotting\n",
    "4. [OS](https://docs.python.org/3/library/os.html): Operating system functionality\n",
    "5. [Pandas](https://pandas.pydata.org/): Data analysis\n",
    "6. [tqdm](https://tqdm.github.io/): Generates progress bar"
   ]
  },
  {
   "cell_type": "code",
   "execution_count": null,
   "metadata": {
    "colab": {
     "base_uri": "https://localhost:8080/",
     "height": 52
    },
    "colab_type": "code",
    "id": "tSaVXoWmlQxh",
    "outputId": "cca775c6-16aa-4a76-d666-1908495065e5"
   },
   "outputs": [],
   "source": [
    "import tensorflow as tf\n",
    "import numpy as np\n",
    "from matplotlib import pyplot as plt\n",
    "import os\n",
    "import pandas as pd\n",
    "from tqdm import tqdm_notebook\n",
    "from tensorflow.keras.callbacks import TensorBoard\n",
    "from sklearn import datasets\n",
    "\n",
    "os.environ['CUDA_VISIBLE_DEVICES'] = \"0\"\n",
    "os.environ['TF_CPP_MIN_LOG_LEVEL'] = \"2\"\n",
    "\n",
    "%matplotlib inline\n",
    "\n",
    "## Verifying import\n",
    "print(\"Tensorflow version =\",tf.__version__)\n",
    "\n",
    "## Verifying whether tensorflow is using Graphic Processing Unit\n",
    "print(\"Using GPU\" if tf.test.is_built_with_cuda() else \"Not using GPU\")"
   ]
  },
  {
   "cell_type": "markdown",
   "metadata": {},
   "source": [
    "## Hello, Tensorflow!"
   ]
  },
  {
   "cell_type": "code",
   "execution_count": null,
   "metadata": {},
   "outputs": [],
   "source": [
    "message = tf.constant(\"Hello, Tensorflow\")\n",
    "sess = tf.Session()\n",
    "print(sess.run(message).decode())\n",
    "sess.close()"
   ]
  },
  {
   "cell_type": "markdown",
   "metadata": {},
   "source": [
    "## Creating Constant Scalars\n",
    "**Reminder** <br/>\n",
    "Scalars are tensors with rank 0<br/>\n",
    "Vectors are tensors with rank 1<br/>\n",
    "Scalars are tensors with rank 2<br/>\n",
    "Constants are assigned value at declaration and value cannot be reassigned\n",
    "\n"
   ]
  },
  {
   "cell_type": "code",
   "execution_count": null,
   "metadata": {
    "colab": {
     "base_uri": "https://localhost:8080/",
     "height": 34
    },
    "colab_type": "code",
    "id": "BPRokb3Ylvn5",
    "outputId": "1afa55b2-9888-4871-d5e5-28a0c4f114f9"
   },
   "outputs": [],
   "source": [
    "## constant variables 0 dimensional\n",
    "x = tf.constant(2.0)\n",
    "y = tf.constant(3.0)\n",
    "\n",
    "## basic addition operation\n",
    "z = x + y"
   ]
  },
  {
   "cell_type": "markdown",
   "metadata": {},
   "source": [
    "## Creating and running a session\n",
    "Computations are not run unless a tensorflow session is created <br/>\n",
    "The graph is just static without a session<br/>\n",
    "**Note: Do not forget to close session using tf.Session.close() to release hardware resources. <br/>\n",
    "Failing to do so may lead to memory overflow**\n"
   ]
  },
  {
   "cell_type": "code",
   "execution_count": null,
   "metadata": {
    "colab": {
     "base_uri": "https://localhost:8080/",
     "height": 34
    },
    "colab_type": "code",
    "id": "BPRokb3Ylvn5",
    "outputId": "1afa55b2-9888-4871-d5e5-28a0c4f114f9"
   },
   "outputs": [],
   "source": [
    "## creating tensorflow session\n",
    "sess = tf.Session()\n",
    "\n",
    "## running the tensorflow session\n",
    "print(sess.run(z))\n",
    "\n",
    "## closing session\n",
    "sess.close()"
   ]
  },
  {
   "cell_type": "markdown",
   "metadata": {},
   "source": [
    "## Creating 1-D and 2-D tensor\n",
    "It is also possible to convert numpy arrays and matrices to tensorflow tensors.<br/>\n",
    "Which is demonstrated in the following example <br/>\n",
    "In the following example a numpy function [np.eye](https://docs.scipy.org/doc/numpy/reference/generated/numpy.eye.html) is used, which returns an identity matrix"
   ]
  },
  {
   "cell_type": "code",
   "execution_count": null,
   "metadata": {
    "colab": {
     "base_uri": "https://localhost:8080/",
     "height": 34
    },
    "colab_type": "code",
    "id": "uBo-BFiYmv2o",
    "outputId": "9904b64f-3eb3-42dc-91dd-a2d63d11e97d"
   },
   "outputs": [],
   "source": [
    "## tensorflow vector from list\n",
    "z_arr = tf.constant([1,2,3,4])\n",
    "\n",
    "## tensorflow matrix from nested list\n",
    "z_mat = tf.constant([[1,0],[0,1]])\n",
    "\n",
    "## tensosrflow vector from numpy vector\n",
    "z_arr_np = tf.constant(np.array([1,2,3,4]))\n",
    "\n",
    "## tensorflow vector from numpy matrix\n",
    "z_mat_np = tf.constant(np.eye(2))\n",
    "\n",
    "sess = tf.Session()\n",
    "\n",
    "print(\"z_arr =\", sess.run(z_arr))\n",
    "print(\"z_mat =\", sess.run(z_mat))\n",
    "print(\"z_arr_np =\", sess.run(z_arr_np))\n",
    "print(\"z_mat_np =\", sess.run(z_mat_np))\n",
    "\n",
    "sess.close()"
   ]
  },
  {
   "cell_type": "markdown",
   "metadata": {},
   "source": [
    "## Creating Variables\n",
    "[Official tensorflow documentation for variables](https://www.tensorflow.org/api_docs/python/tf/Variable)"
   ]
  },
  {
   "cell_type": "code",
   "execution_count": null,
   "metadata": {},
   "outputs": [],
   "source": [
    "## creating a variable matrix of shape 2 x 4 and containing 32-bit float\n",
    "W = tf.Variable(np.random.randn(2,4), dtype = tf.float32, name = \"weight\")\n",
    "\n",
    "## initialize object\n",
    "init = tf.global_variables_initializer()\n",
    "\n",
    "with tf.Session() as sess:\n",
    "    sess.run(init)\n",
    "    print(W.eval())"
   ]
  },
  {
   "cell_type": "markdown",
   "metadata": {},
   "source": [
    "## Creating placeholders\n",
    "\n",
    "Placeholders do not need to be specified value at declaration, but are later fed value through feed dictionary <br/>\n",
    "At declaration, we need to specify shape and data type <br/>\n",
    "Similar to numpy, tensorflow tensors also have shape attribute"
   ]
  },
  {
   "cell_type": "code",
   "execution_count": null,
   "metadata": {},
   "outputs": [],
   "source": [
    "placeholder1 = tf.placeholder(dtype = tf.float32, shape = [1,2,3,4])\n",
    "print(placeholder1.shape)"
   ]
  },
  {
   "cell_type": "markdown",
   "metadata": {},
   "source": [
    "## Using optimizer to minimize loss\n",
    "Defining loss of a simple linear model <br/>\n",
    "$$ y = mx + c $$\n",
    "\n",
    "Creating an optimizer object and using it to minimimize the loss <br/>\n",
    "In this we use [np.random.randn](https://docs.scipy.org/doc/numpy/reference/generated/numpy.random.randn.html) to generate variables"
   ]
  },
  {
   "cell_type": "code",
   "execution_count": null,
   "metadata": {
    "colab": {},
    "colab_type": "code",
    "id": "PBE5FCV4m6CB"
   },
   "outputs": [],
   "source": [
    "inp = 50 * np.random.rand(50, 1)\n",
    "out = 1.24 * inp + 21.23 + 6 * np.random.rand(50, 1)\n",
    "print(inp.shape)\n",
    "print(out.shape)"
   ]
  },
  {
   "cell_type": "code",
   "execution_count": null,
   "metadata": {
    "colab": {
     "base_uri": "https://localhost:8080/",
     "height": 89
    },
    "colab_type": "code",
    "id": "rFDcT0GknJbU",
    "outputId": "e26ce01e-3fc6-42cb-be14-12fac9bb6e0e"
   },
   "outputs": [],
   "source": [
    "plt.scatter(inp, out)\n",
    "plt.xlabel(\"X\")\n",
    "plt.ylabel(\"y\")\n",
    "plt.title(\"input vs output\")\n",
    "plt.grid(True)"
   ]
  },
  {
   "cell_type": "code",
   "execution_count": null,
   "metadata": {
    "colab": {
     "base_uri": "https://localhost:8080/",
     "height": 1702
    },
    "colab_type": "code",
    "id": "tfJktUdJ1TSg",
    "outputId": "466ec3bc-af0f-4399-dbf2-eac316f53376"
   },
   "outputs": [],
   "source": [
    "X = tf.placeholder(dtype = tf.float32, shape = [None, 1])\n",
    "y = tf.placeholder(dtype = tf.float32, shape = [None, 1])\n",
    "W = tf.get_variable(dtype = tf.float32, name = \"weight\", shape = [1], initializer = tf.initializers.random_normal)\n",
    "b = tf.get_variable(dtype = tf.float32, name = \"bias\", shape = [1], initializer = tf.initializers.random_normal)"
   ]
  },
  {
   "cell_type": "code",
   "execution_count": null,
   "metadata": {
    "colab": {},
    "colab_type": "code",
    "id": "PoRsXnuO1lVX"
   },
   "outputs": [],
   "source": [
    "\n",
    "def getPrediction(W, X, b):\n",
    "    '''\n",
    "    Generates prediction from weight and input data\n",
    "  \n",
    "    Extended description of function. \n",
    "  \n",
    "    Parameters: \n",
    "    W (tf.float32): Variable of shape (1)\n",
    "    X (tf.float32): Placeholder of shape (None, 1)\n",
    "    b (tf.flaot32): Variable of shape (1)\n",
    "  \n",
    "    Returns: \n",
    "    tf.float32 tensor: The predicted value\n",
    "    \n",
    "    '''\n",
    "    return X*W + b"
   ]
  },
  {
   "cell_type": "code",
   "execution_count": null,
   "metadata": {},
   "outputs": [],
   "source": [
    "def loss(W, X, y, b):\n",
    "    '''\n",
    "    Generates loss from weight and input and output data\n",
    "  \n",
    "    Extended description of function. \n",
    "  \n",
    "    Parameters: \n",
    "    W (tf.float32): Placeholder of shape (None, 1). The input data\n",
    "    X (tf.float32): Variable of shape (1)\n",
    "    b (tf.flaot32): Variable of shape (1)\n",
    "    y (tf.float32): Placeholder of shape (None, 1). The output data (Different from predicted data)\n",
    "  \n",
    "    Returns: \n",
    "    tf.float32 tensor: Loss\n",
    "    '''\n",
    "    ## predicted values\n",
    "    pred = getPrediction(W, X, b)\n",
    "    \n",
    "    return tf.losses.mean_squared_error(pred, y)"
   ]
  },
  {
   "cell_type": "code",
   "execution_count": null,
   "metadata": {},
   "outputs": [],
   "source": [
    "cost = loss(W, X, y, b)\n",
    "\n",
    "## declaring optimizer and initializer for global variables\n",
    "optimizer = tf.train.GradientDescentOptimizer(0.001).minimize(cost)\n",
    "init = tf.global_variables_initializer()\n",
    "\n",
    "## for holding weights\n",
    "weights = {}\n",
    "\n",
    "## loss at every 1000th iteration\n",
    "costCache = []"
   ]
  },
  {
   "cell_type": "code",
   "execution_count": null,
   "metadata": {},
   "outputs": [],
   "source": [
    "%%time\n",
    "\n",
    "with tf.Session() as sess:\n",
    "    ## initializing global variables\n",
    "    sess.run(init)\n",
    "    \n",
    "    ## running for 20,000 iterations\n",
    "    for num_iter in range(2*10**4):\n",
    "        \n",
    "        ## data fed through feed dictionary\n",
    "        ## returns the optimizer and current cost\n",
    "        _, currentCost = sess.run([optimizer, cost], feed_dict = {X: inp, y: out})\n",
    "        \n",
    "        if num_iter % 10**3 == 0:\n",
    "            \n",
    "            costCache.append(currentCost)\n",
    "            print(\"Iteration:{}, Loss = {}\".format(num_iter, currentCost))\n",
    "    ## storing weight and bias\n",
    "    weights[\"weight\"], weights[\"bias\"] = W.eval(), b.eval()\n",
    "    \n",
    "    ## plot variation of cost\n",
    "    plt.plot(costCache)"
   ]
  },
  {
   "cell_type": "code",
   "execution_count": null,
   "metadata": {},
   "outputs": [],
   "source": [
    "print(weights)"
   ]
  },
  {
   "cell_type": "markdown",
   "metadata": {},
   "source": [
    "## tf.keras\n",
    "Simple API for creating DL models.<br/>\n",
    "Integrated into tensorflow <br/>\n",
    "[Sample Code provided at Tensorflow documentation](https://www.tensorflow.org/tutorials)\n"
   ]
  },
  {
   "cell_type": "code",
   "execution_count": null,
   "metadata": {},
   "outputs": [],
   "source": [
    "%%time\n",
    "mnist = tf.keras.datasets.mnist\n",
    "\n",
    "(x_train, y_train),(x_test, y_test) = mnist.load_data()\n",
    "x_train, x_test = x_train / 255.0, x_test / 255.0\n",
    "\n",
    "model = tf.keras.models.Sequential([\n",
    "  tf.keras.layers.Flatten(input_shape=(28, 28)),\n",
    "  tf.keras.layers.Dense(512, activation=tf.nn.relu),\n",
    "  tf.keras.layers.Dropout(0.2),\n",
    "  tf.keras.layers.Dense(10, activation=tf.nn.softmax)\n",
    "])\n",
    "model.compile(optimizer='adam',\n",
    "              loss='sparse_categorical_crossentropy',\n",
    "              metrics=['accuracy'])\n",
    "\n",
    "model.fit(x_train, y_train, epochs=5)\n",
    "model.evaluate(x_test, y_test)\n"
   ]
  },
  {
   "cell_type": "markdown",
   "metadata": {},
   "source": [
    "## Tensorboard\n",
    "A library for visualizing Deep Learning models <br/>\n",
    "**Following code section is for users running on local machine**"
   ]
  },
  {
   "cell_type": "code",
   "execution_count": null,
   "metadata": {
    "scrolled": true
   },
   "outputs": [],
   "source": [
    "%%time\n",
    "mnist = tf.keras.datasets.mnist\n",
    "\n",
    "(x_train, y_train),(x_test, y_test) = mnist.load_data()\n",
    "x_train, x_test = x_train / 255.0, x_test / 255.0\n",
    "\n",
    "tensorboard = TensorBoard(log_dir=\"logs/{}\".format(\"mnistmodel\"))\n",
    "\n",
    "model = tf.keras.models.Sequential([\n",
    "  tf.keras.layers.Flatten(input_shape=(28, 28)),\n",
    "  tf.keras.layers.Dense(512, activation=tf.nn.relu),\n",
    "  tf.keras.layers.Dropout(0.2),\n",
    "  tf.keras.layers.Dense(10, activation=tf.nn.softmax)\n",
    "])\n",
    "model.compile(optimizer='adam',\n",
    "              loss='sparse_categorical_crossentropy',\n",
    "              metrics=['accuracy'])\n",
    "\n",
    "model.fit(x_train, y_train, epochs=5, callbacks=[tensorboard])\n",
    "model.evaluate(x_test, y_test)"
   ]
  },
  {
   "cell_type": "markdown",
   "metadata": {},
   "source": [
    "Run the following instructions in the shell\n",
    "\n",
    "``\n",
    "$ tensorboard --logdir=logs/\n",
    "TensorBoard 1.10.0 at http://computationinator:6006 (Press CTRL+C to quit)\n",
    "``\n",
    "<br/> \n",
    "Enter the url in the web browser <br/>\n",
    "Sample output is given below\n"
   ]
  },
  {
   "cell_type": "markdown",
   "metadata": {},
   "source": [
    "<img src = \"Images/boardgraph.png\">\n",
    "<img src = \"Images/boardplot.png\">\n",
    "<img src = \"Images/graph.png\">"
   ]
  }
 ],
 "metadata": {
  "accelerator": "GPU",
  "colab": {
   "collapsed_sections": [],
   "include_colab_link": true,
   "name": "TensorflowCSIR.ipynb",
   "provenance": [],
   "version": "0.3.2"
  },
  "kernelspec": {
   "display_name": "Python 3",
   "language": "python",
   "name": "python3"
  },
  "language_info": {
   "codemirror_mode": {
    "name": "ipython",
    "version": 3
   },
   "file_extension": ".py",
   "mimetype": "text/x-python",
   "name": "python",
   "nbconvert_exporter": "python",
   "pygments_lexer": "ipython3",
   "version": "3.7.3"
  }
 },
 "nbformat": 4,
 "nbformat_minor": 1
}
